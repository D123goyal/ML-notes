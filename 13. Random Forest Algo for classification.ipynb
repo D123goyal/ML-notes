{
 "cells": [
  {
   "cell_type": "markdown",
   "metadata": {},
   "source": [
    "Ensemble Learning, means that we take multiple algo and combine them to form a new bigger algorithm. Similarly, Random forest takes into acc, several Decision trees.\n",
    "\n",
    "Step 1: Pick k random data point from the training set.\n",
    "\n",
    "Step 2: Build Decision tree assciated to these K data points.\n",
    "\n",
    "Step 3: Choose the no. Ntree of trees you want to build and repeat steps 1 and 2\n",
    "\n",
    "Step 4: For a new data point, make each one of your Ntree predict which category to data point belongs, and assign the new data point to the category that wins the majority votes."
   ]
  },
  {
   "cell_type": "code",
   "execution_count": 1,
   "metadata": {},
   "outputs": [
    {
     "name": "stderr",
     "output_type": "stream",
     "text": [
      "/home/tushar/.local/lib/python2.7/site-packages/sklearn/cross_validation.py:41: DeprecationWarning: This module was deprecated in version 0.18 in favor of the model_selection module into which all the refactored classes and functions are moved. Also note that the interface of the new CV iterators are different from that of this module. This module will be removed in 0.20.\n",
      "  \"This module will be removed in 0.20.\", DeprecationWarning)\n",
      "/home/tushar/.local/lib/python2.7/site-packages/sklearn/utils/validation.py:475: DataConversionWarning: Data with input dtype int64 was converted to float64 by StandardScaler.\n",
      "  warnings.warn(msg, DataConversionWarning)\n"
     ]
    }
   ],
   "source": [
    "import pandas as pd\n",
    "import numpy as np\n",
    "import matplotlib.pyplot as plt\n",
    "%matplotlib inline\n",
    "df = pd.read_csv('Social_Network_Ads.csv')\n",
    "df.head()\n",
    "x = df.iloc[:, [2, 3]].values\n",
    "y = df.iloc[:, 4].values\n",
    "\n",
    "#splitting the dataset\n",
    "from sklearn.cross_validation import train_test_split\n",
    "trainx, testx, trainy, testy = train_test_split(x, y, test_size = 0.25, random_state = 0)\n",
    "\n",
    "#feature scaling the data\n",
    "from sklearn.preprocessing import StandardScaler\n",
    "scx = StandardScaler()\n",
    "trainx = scx.fit_transform(trainx)\n",
    "testx = scx.transform(testx)"
   ]
  },
  {
   "cell_type": "code",
   "execution_count": 2,
   "metadata": {},
   "outputs": [],
   "source": [
    "from sklearn.ensemble import RandomForestClassifier\n",
    "reg = RandomForestClassifier(n_estimators = 10, criterion = 'entropy', random_state = 0)\n",
    "model = reg.fit(trainx, trainy)"
   ]
  },
  {
   "cell_type": "code",
   "execution_count": 3,
   "metadata": {},
   "outputs": [
    {
     "data": {
      "text/html": [
       "<div>\n",
       "<style scoped>\n",
       "    .dataframe tbody tr th:only-of-type {\n",
       "        vertical-align: middle;\n",
       "    }\n",
       "\n",
       "    .dataframe tbody tr th {\n",
       "        vertical-align: top;\n",
       "    }\n",
       "\n",
       "    .dataframe thead th {\n",
       "        text-align: right;\n",
       "    }\n",
       "</style>\n",
       "<table border=\"1\" class=\"dataframe\">\n",
       "  <thead>\n",
       "    <tr style=\"text-align: right;\">\n",
       "      <th></th>\n",
       "      <th>0</th>\n",
       "      <th>1</th>\n",
       "    </tr>\n",
       "  </thead>\n",
       "  <tbody>\n",
       "    <tr>\n",
       "      <th>0</th>\n",
       "      <td>63</td>\n",
       "      <td>5</td>\n",
       "    </tr>\n",
       "    <tr>\n",
       "      <th>1</th>\n",
       "      <td>3</td>\n",
       "      <td>29</td>\n",
       "    </tr>\n",
       "  </tbody>\n",
       "</table>\n",
       "</div>"
      ],
      "text/plain": [
       "    0   1\n",
       "0  63   5\n",
       "1   3  29"
      ]
     },
     "execution_count": 3,
     "metadata": {},
     "output_type": "execute_result"
    }
   ],
   "source": [
    "from sklearn.metrics import confusion_matrix\n",
    "predy = model.predict(testx)\n",
    "cm = confusion_matrix(testy, model.predict(testx))\n",
    "pd.DataFrame(cm)"
   ]
  },
  {
   "cell_type": "code",
   "execution_count": 4,
   "metadata": {},
   "outputs": [
    {
     "data": {
      "image/png": "[encoded data removed]",
      "text/plain": [
       "<matplotlib.figure.Figure at 0x7f306236af50>"
      ]
     },
     "metadata": {},
     "output_type": "display_data"
    }
   ],
   "source": [
    "from matplotlib.colors import ListedColormap\n",
    "x_set = testx\n",
    "y_set = testy\n",
    "x1, x2 = np.meshgrid(np.arange(start = x_set[:, 0].min()-1, stop = x_set[:, 0].max()+1, step = 0.01)\n",
    "                    ,np.arange(start = x_set[:, 1].min()-1, stop = x_set[:, 1].max()+1, step = 0.01))\n",
    "\n",
    "\n",
    "plt.contourf(x1, x2, model.predict(np.array([x1.ravel(), x2.ravel()]).T).reshape(x1.shape), alpha = 0.4)\n",
    "plt.xlim(x1.min(), x1.max())\n",
    "plt.ylim(x2.min(), x2.max())\n",
    "x_setd = pd.DataFrame(x_set)\n",
    "x_p = x_setd.loc[(y_set ==0), :].values\n",
    "x_n = x_setd.loc[(y_set ==1), :].values\n",
    "\n",
    "\n",
    "\n",
    "plt.scatter(x_p[:, 0], x_p[:, 1], color = 'red')\n",
    "plt.scatter(x_n[:, 0], x_n[:, 1], color = 'green')\n",
    "\n",
    "plt.xlabel('Age')\n",
    "plt.ylabel('Estimated Salary')\n",
    "plt.legend()\n",
    "plt.show()"
   ]
  },
  {
   "cell_type": "code",
   "execution_count": 5,
   "metadata": {},
   "outputs": [
    {
     "name": "stderr",
     "output_type": "stream",
     "text": [
      "/home/tushar/.local/lib/python2.7/site-packages/sklearn/learning_curve.py:22: DeprecationWarning: This module was deprecated in version 0.18 in favor of the model_selection module into which all the functions are moved. This module will be removed in 0.20\n",
      "  DeprecationWarning)\n"
     ]
    },
    {
     "data": {
      "text/plain": [
       "<matplotlib.collections.PolyCollection at 0x7f3062390190>"
      ]
     },
     "execution_count": 5,
     "metadata": {},
     "output_type": "execute_result"
    },
    {
     "data": {
      "image/png": "[encoded data removed]",
      "text/plain": [
       "<matplotlib.figure.Figure at 0x7f3098074690>"
      ]
     },
     "metadata": {},
     "output_type": "display_data"
    }
   ],
   "source": [
    "from sklearn.learning_curve import learning_curve\n",
    "train_size, train_scores, test_scores = learning_curve(estimator = model, X = trainx, y = trainy, train_sizes = np.linspace(0.1, 1, 10), cv =10, n_jobs = 1)\n",
    "train_mean = np.mean(train_scores, axis =1)\n",
    "train_std = np.std(train_scores, axis =1)\n",
    "test_mean = np.mean(test_scores, axis =1)\n",
    "test_std = np.std(test_scores, axis =1)\n",
    "plt.plot(train_size, train_mean, color = 'blue', marker = 'o')\n",
    "plt.fill_between(train_size, train_mean + train_std, alpha = 0.15, color = 'green')\n",
    "\n",
    "plt.plot(train_size, test_mean, color = 'red', marker = 'o')\n",
    "plt.fill_between(train_size, test_mean + test_std, alpha = 0.25, color = 'orange')\n"
   ]
  },
  {
   "cell_type": "code",
   "execution_count": 15,
   "metadata": {},
   "outputs": [
    {
     "data": {
      "text/plain": [
       "<matplotlib.collections.PolyCollection at 0x7f305fb8b710>"
      ]
     },
     "execution_count": 15,
     "metadata": {},
     "output_type": "execute_result"
    },
    {
     "data": {
      "image/png": "[encoded data removed]",
      "text/plain": [
       "<matplotlib.figure.Figure at 0x7f305fbe61d0>"
      ]
     },
     "metadata": {},
     "output_type": "display_data"
    }
   ],
   "source": [
    "from sklearn.learning_curve import validation_curve\n",
    "p_range = [5, 10, 20, 40, 100, 500, 1000]\n",
    "train_scores, test_scores = validation_curve(estimator = model, X = trainx, y = trainy, \n",
    "                                             param_name = 'max_depth', \n",
    "                                             param_range = p_range, cv =10, n_jobs = 1)\n",
    "\n",
    "\n",
    "\n",
    "train_mean = np.mean(train_scores, axis =1)\n",
    "train_std = np.std(train_scores, axis =1)\n",
    "test_mean = np.mean(test_scores, axis =1)\n",
    "test_std = np.std(test_scores, axis =1)\n",
    "plt.plot(p_range, train_mean, color = 'blue', marker = 'o')\n",
    "plt.fill_between(p_range, train_mean + train_std, alpha = 0.15, color = 'green')\n",
    "\n",
    "plt.plot(p_range, test_mean, color = 'red', marker = 'o')\n",
    "plt.fill_between(p_range, test_mean + test_std, alpha = 0.25, color = 'orange')\n"
   ]
  },
  {
   "cell_type": "code",
   "execution_count": null,
   "metadata": {},
   "outputs": [],
   "source": []
  }
 ],
 "metadata": {
  "kernelspec": {
   "display_name": "Python 2",
   "language": "python",
   "name": "python2"
  },
  "language_info": {
   "codemirror_mode": {
    "name": "ipython",
    "version": 2
   },
   "file_extension": ".py",
   "mimetype": "text/x-python",
   "name": "python",
   "nbconvert_exporter": "python",
   "pygments_lexer": "ipython2",
   "version": "2.7.12"
  }
 },
 "nbformat": 4,
 "nbformat_minor": 2
}
