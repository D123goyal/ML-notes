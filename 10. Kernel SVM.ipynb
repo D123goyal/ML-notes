{
 "cells": [
  {
   "cell_type": "markdown",
   "metadata": {},
   "source": [
    "Sometimes it is not at all possible to draw a linear seperation line on the dataset, that is the data is call linearly unseperable. Kernel SVM help to find the decison boundary. Assumption being, the data is linearly unseperable."
   ]
  },
  {
   "cell_type": "markdown",
   "metadata": {},
   "source": [
    "A concept is of taking the dataset to higher dimensions and draw a linearly seperable data points, And bring them back to original dimensions once they are seperated.\n",
    "But, mapping to a higher dimension requires highly computing intensive environment.\n",
    "\n",
    "We have to pick the right sigma!!\n",
    "By decreasing sigma, we decrease the radius of the DB.\n",
    "\n",
    "**Types of Kernel functions:**\n",
    "\n",
    "Gaussian RBF: k(x, l) = exp(((mod(x-l)^2)/2 x sigma^2)\n",
    "\n",
    "Sigmoid function: k(x, y) = tanh(gamma x (X.T) x Y + r) \n",
    "\n",
    "Polynomial kernel: k(x, y) = (gamma x (X.T) x Y + r)^d"
   ]
  },
  {
   "cell_type": "code",
   "execution_count": 2,
   "metadata": {},
   "outputs": [],
   "source": [
    "import pandas as pd\n",
    "import numpy as np\n",
    "import matplotlib.pyplot as plt\n",
    "%matplotlib inline\n",
    "df = pd.read_csv('Social_Network_Ads.csv')\n",
    "df.head()\n",
    "x = df.iloc[:, [2, 3]].values\n",
    "y = df.iloc[:, 4].values\n",
    "\n",
    "#splitting the dataset\n",
    "from sklearn.cross_validation import train_test_split\n",
    "trainx, testx, trainy, testy = train_test_split(x, y, test_size = 0.25, random_state = 0)\n",
    "\n",
    "#feature scaling the data\n",
    "from sklearn.preprocessing import StandardScaler\n",
    "scx = StandardScaler()\n",
    "trainx = scx.fit_transform(trainx)\n",
    "testx = scx.transform(testx)"
   ]
  },
  {
   "cell_type": "code",
   "execution_count": 1,
   "metadata": {},
   "outputs": [
    {
     "ename": "NameError",
     "evalue": "name 'trainx' is not defined",
     "output_type": "error",
     "traceback": [
      "\u001b[0;31m---------------------------------------------------------------------------\u001b[0m",
      "\u001b[0;31mNameError\u001b[0m                                 Traceback (most recent call last)",
      "\u001b[0;32m<ipython-input-1-cfbf8d6b98bd>\u001b[0m in \u001b[0;36m<module>\u001b[0;34m()\u001b[0m\n\u001b[1;32m      2\u001b[0m \u001b[0;31m#p =2 is for euclidean distance:\u001b[0m\u001b[0;34m\u001b[0m\u001b[0;34m\u001b[0m\u001b[0m\n\u001b[1;32m      3\u001b[0m \u001b[0mreg\u001b[0m \u001b[0;34m=\u001b[0m \u001b[0mKNeighborsClassifier\u001b[0m\u001b[0;34m(\u001b[0m\u001b[0mn_neighbors\u001b[0m \u001b[0;34m=\u001b[0m \u001b[0;36m5\u001b[0m\u001b[0;34m,\u001b[0m \u001b[0mp\u001b[0m \u001b[0;34m=\u001b[0m\u001b[0;36m2\u001b[0m\u001b[0;34m,\u001b[0m \u001b[0mmetric\u001b[0m \u001b[0;34m=\u001b[0m \u001b[0;34m'minkowski'\u001b[0m\u001b[0;34m)\u001b[0m\u001b[0;34m\u001b[0m\u001b[0m\n\u001b[0;32m----> 4\u001b[0;31m \u001b[0mmodel\u001b[0m \u001b[0;34m=\u001b[0m \u001b[0mreg\u001b[0m\u001b[0;34m.\u001b[0m\u001b[0mfit\u001b[0m\u001b[0;34m(\u001b[0m\u001b[0mtrainx\u001b[0m\u001b[0;34m,\u001b[0m \u001b[0mtrainy\u001b[0m\u001b[0;34m)\u001b[0m\u001b[0;34m\u001b[0m\u001b[0m\n\u001b[0m",
      "\u001b[0;31mNameError\u001b[0m: name 'trainx' is not defined"
     ]
    }
   ],
   "source": [
    "from sklearn.svm import SVC\n",
    "reg = SVC(kernel = 'rbf', random_state=0)\n",
    "model = reg.fit(trainx, trainy)"
   ]
  },
  {
   "cell_type": "code",
   "execution_count": 7,
   "metadata": {},
   "outputs": [
    {
     "data": {
      "text/html": [
       "<div>\n",
       "<style scoped>\n",
       "    .dataframe tbody tr th:only-of-type {\n",
       "        vertical-align: middle;\n",
       "    }\n",
       "\n",
       "    .dataframe tbody tr th {\n",
       "        vertical-align: top;\n",
       "    }\n",
       "\n",
       "    .dataframe thead th {\n",
       "        text-align: right;\n",
       "    }\n",
       "</style>\n",
       "<table border=\"1\" class=\"dataframe\">\n",
       "  <thead>\n",
       "    <tr style=\"text-align: right;\">\n",
       "      <th></th>\n",
       "      <th>0</th>\n",
       "      <th>1</th>\n",
       "    </tr>\n",
       "  </thead>\n",
       "  <tbody>\n",
       "    <tr>\n",
       "      <th>0</th>\n",
       "      <td>64</td>\n",
       "      <td>4</td>\n",
       "    </tr>\n",
       "    <tr>\n",
       "      <th>1</th>\n",
       "      <td>3</td>\n",
       "      <td>29</td>\n",
       "    </tr>\n",
       "  </tbody>\n",
       "</table>\n",
       "</div>"
      ],
      "text/plain": [
       "    0   1\n",
       "0  64   4\n",
       "1   3  29"
      ]
     },
     "execution_count": 7,
     "metadata": {},
     "output_type": "execute_result"
    }
   ],
   "source": [
    "from sklearn.metrics import confusion_matrix\n",
    "predy = model.predict(testx)\n",
    "cm = confusion_matrix(testy, model.predict(testx))\n",
    "pd.DataFrame(cm)"
   ]
  },
  {
   "cell_type": "code",
   "execution_count": 8,
   "metadata": {},
   "outputs": [
    {
     "data": {
      "image/png": "[encoded data removed]",
      "text/plain": [
       "<matplotlib.figure.Figure at 0x7f1473782090>"
      ]
     },
     "metadata": {},
     "output_type": "display_data"
    }
   ],
   "source": [
    "from matplotlib.colors import ListedColormap\n",
    "x_set = testx\n",
    "y_set = testy\n",
    "x1, x2 = np.meshgrid(np.arange(start = x_set[:, 0].min()-1, stop = x_set[:, 0].max()+1, step = 0.01)\n",
    "                    ,np.arange(start = x_set[:, 1].min()-1, stop = x_set[:, 1].max()+1, step = 0.01))\n",
    "plt.contourf(x1, x2, model.predict(np.array([x1.ravel(), x2.ravel()]).T).reshape(x1.shape), alpha = 0.4)\n",
    "plt.xlim(x1.min(), x1.max())\n",
    "plt.ylim(x2.min(), x2.max())\n",
    "x_setd = pd.DataFrame(x_set)\n",
    "x_p = x_setd.loc[(y_set ==0), :].values\n",
    "x_n = x_setd.loc[(y_set ==1), :].values\n",
    "\n",
    "\n",
    "\n",
    "plt.scatter(x_p[:, 0], x_p[:, 1], color = 'red')\n",
    "plt.scatter(x_n[:, 0], x_n[:, 1], color = 'green')\n",
    "\n",
    "plt.xlabel('Age')\n",
    "plt.ylabel('Estimated Salary')\n",
    "plt.legend()\n",
    "plt.show()"
   ]
  },
  {
   "cell_type": "code",
   "execution_count": null,
   "metadata": {},
   "outputs": [],
   "source": []
  }
 ],
 "metadata": {
  "kernelspec": {
   "display_name": "Python 2",
   "language": "python",
   "name": "python2"
  },
  "language_info": {
   "codemirror_mode": {
    "name": "ipython",
    "version": 2
   },
   "file_extension": ".py",
   "mimetype": "text/x-python",
   "name": "python",
   "nbconvert_exporter": "python",
   "pygments_lexer": "ipython2",
   "version": "2.7.12"
  }
 },
 "nbformat": 4,
 "nbformat_minor": 2
}
